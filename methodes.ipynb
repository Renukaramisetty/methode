{
 "cells": [
  {
   "cell_type": "code",
   "execution_count": 2,
   "id": "39f981d9-676a-4980-802d-4cd2425ed09c",
   "metadata": {},
   "outputs": [
    {
     "name": "stdout",
     "output_type": "stream",
     "text": [
      "     abc    \n",
      "abc\n",
      "abc    \n",
      "     abc\n"
     ]
    }
   ],
   "source": [
    "#strip():for removing white spaces\n",
    "s=  '     abc    '\n",
    "print(s)\n",
    "print(s.strip())\n",
    "print(s.lstrip())\n",
    "print(s.rstrip())\n"
   ]
  },
  {
   "cell_type": "code",
   "execution_count": 7,
   "id": "76fe6170-b4f5-4249-b8b2-f61a95209c3a",
   "metadata": {},
   "outputs": [
    {
     "name": "stdout",
     "output_type": "stream",
     "text": [
      "@@@@abc@@@@\n",
      "abc\n",
      "abc@@@@\n",
      "@@@@abc\n"
     ]
    }
   ],
   "source": [
    "s='@@@@abc@@@@'\n",
    "print(s)\n",
    "print(s.strip('@'))\n",
    "print(s.lstrip('@'))\n",
    "print(s.rstrip('@'))\n",
    "\n"
   ]
  },
  {
   "cell_type": "code",
   "execution_count": null,
   "id": "f608c6cc-dd3f-4281-8f0f-47385610056a",
   "metadata": {},
   "outputs": [],
   "source": []
  },
  {
   "cell_type": "code",
   "execution_count": null,
   "id": "f15ef835-60a1-44cc-a61e-817a08cf602a",
   "metadata": {},
   "outputs": [],
   "source": []
  },
  {
   "cell_type": "code",
   "execution_count": 8,
   "id": "586bf2b8-7013-41af-b770-d386d0e3bcf2",
   "metadata": {},
   "outputs": [
    {
     "name": "stdout",
     "output_type": "stream",
     "text": [
      "['I', 'am', 'Renuka']\n"
     ]
    }
   ],
   "source": [
    "#split:convert the string into list of sub strings\n",
    "s=(\" I am Renuka\")\n",
    "print(s.split())"
   ]
  },
  {
   "cell_type": "code",
   "execution_count": 11,
   "id": "a2c79e67-f7b1-4171-80d5-37f30b92a0a4",
   "metadata": {},
   "outputs": [
    {
     "name": "stdout",
     "output_type": "stream",
     "text": [
      "aaaarenukarrrr\n",
      "aaaarenukarrrr\n",
      "renukarrrr\n",
      "aaaarenuka\n"
     ]
    }
   ],
   "source": [
    "s='aaaarenukarrrr'\n",
    "print(s)\n",
    "print(s.strip())\n",
    "print(s.lstrip('a'))\n",
    "print(s.rstrip('r'))"
   ]
  },
  {
   "cell_type": "code",
   "execution_count": 12,
   "id": "7fc037c0-a87a-436c-93ca-e5856c4b8d1b",
   "metadata": {},
   "outputs": [
    {
     "name": "stdout",
     "output_type": "stream",
     "text": [
      "I LOVE INDIA\n",
      "['', ' LOVE ', 'ND', 'A']\n"
     ]
    }
   ],
   "source": [
    "s='I LOVE INDIA'\n",
    "print(s)\n",
    "print(s.split('I'))"
   ]
  },
  {
   "cell_type": "code",
   "execution_count": 18,
   "id": "e557117b-97cf-49a1-99a7-9e68ae388b7b",
   "metadata": {},
   "outputs": [
    {
     "name": "stdout",
     "output_type": "stream",
     "text": [
      "['I', 'am', 'Renuka']\n",
      "I am Renuka\n"
     ]
    }
   ],
   "source": [
    "#join:combine the interable values into a string\n",
    "l=['I', 'am', 'Renuka']\n",
    "print(l)\n",
    "print(' '.join(l))"
   ]
  },
  {
   "cell_type": "code",
   "execution_count": 19,
   "id": "f039658b-2e29-41f6-bbfd-1966c6625498",
   "metadata": {},
   "outputs": [
    {
     "name": "stdout",
     "output_type": "stream",
     "text": [
      "['I', 'am', 'Renuka']\n",
      "I r am r Renuka\n"
     ]
    }
   ],
   "source": [
    "l=['I', 'am', 'Renuka']\n",
    "print(l)\n",
    "print(' r '.join(l))\n"
   ]
  },
  {
   "cell_type": "code",
   "execution_count": 20,
   "id": "6283757e-562e-48fc-8a18-9c65227cce61",
   "metadata": {},
   "outputs": [
    {
     "name": "stdout",
     "output_type": "stream",
     "text": [
      "7\n",
      "-1\n"
     ]
    }
   ],
   "source": [
    "#find() it returns the first occerence position otherwise -1\n",
    "s=\"I am a python programmer\"\n",
    "print(s.find('p'))\n",
    "print(s.find('z'))"
   ]
  },
  {
   "cell_type": "code",
   "execution_count": 21,
   "id": "92054849-ea8a-4b77-9d0d-07a6a1f73660",
   "metadata": {},
   "outputs": [
    {
     "name": "stdout",
     "output_type": "stream",
     "text": [
      "7\n"
     ]
    },
    {
     "ename": "ValueError",
     "evalue": "substring not found",
     "output_type": "error",
     "traceback": [
      "\u001b[1;31m---------------------------------------------------------------------------\u001b[0m",
      "\u001b[1;31mValueError\u001b[0m                                Traceback (most recent call last)",
      "Cell \u001b[1;32mIn[21], line 3\u001b[0m\n\u001b[0;32m      1\u001b[0m s\u001b[38;5;241m=\u001b[39m\u001b[38;5;124m\"\u001b[39m\u001b[38;5;124mI am a python programmer\u001b[39m\u001b[38;5;124m\"\u001b[39m\n\u001b[0;32m      2\u001b[0m \u001b[38;5;28mprint\u001b[39m(s\u001b[38;5;241m.\u001b[39mindex(\u001b[38;5;124m'\u001b[39m\u001b[38;5;124mp\u001b[39m\u001b[38;5;124m'\u001b[39m))\n\u001b[1;32m----> 3\u001b[0m \u001b[38;5;28mprint\u001b[39m(s\u001b[38;5;241m.\u001b[39mindex(\u001b[38;5;124m'\u001b[39m\u001b[38;5;124mz\u001b[39m\u001b[38;5;124m'\u001b[39m))\n",
      "\u001b[1;31mValueError\u001b[0m: substring not found"
     ]
    }
   ],
   "source": [
    "#index(): it returns the first occerence position otherwise value error\n",
    "s=\"I am a python programmer\"\n",
    "print(s.index('p'))\n",
    "print(s.index('z'))"
   ]
  },
  {
   "cell_type": "code",
   "execution_count": 23,
   "id": "6506ea27-9c31-4bff-b7b9-3d8a44e30890",
   "metadata": {},
   "outputs": [
    {
     "name": "stdout",
     "output_type": "stream",
     "text": [
      "True True False\n",
      "False True False\n",
      "False True True\n",
      "False False False\n"
     ]
    }
   ],
   "source": [
    "#checking functions\n",
    "#is alpha:string contains only alphabetic values\n",
    "#is alnum: string conatins both alpahabetic or digits\n",
    "#is digit: string contaibns only digit values\n",
    "s1=\"abcd\"\n",
    "s2=\"abc123\"\n",
    "s3=\"1234\"\n",
    "s4=\"abc@12\"\n",
    "print(s1.isalpha(),s1.isalnum(),s1.isdigit())\n",
    "print(s2.isalpha(),s2.isalnum(),s2.isdigit())\n",
    "print(s3.isalpha(),s3.isalnum(),s3.isdigit())\n",
    "print(s4.isalpha(),s4.isalnum(),s4.isdigit())\n",
    "\n",
    "\n"
   ]
  },
  {
   "cell_type": "code",
   "execution_count": null,
   "id": "20e52c03-c203-45b7-a000-aa62658fadd6",
   "metadata": {},
   "outputs": [],
   "source": []
  }
 ],
 "metadata": {
  "kernelspec": {
   "display_name": "Python 3 (ipykernel)",
   "language": "python",
   "name": "python3"
  },
  "language_info": {
   "codemirror_mode": {
    "name": "ipython",
    "version": 3
   },
   "file_extension": ".py",
   "mimetype": "text/x-python",
   "name": "python",
   "nbconvert_exporter": "python",
   "pygments_lexer": "ipython3",
   "version": "3.13.5"
  }
 },
 "nbformat": 4,
 "nbformat_minor": 5
}
